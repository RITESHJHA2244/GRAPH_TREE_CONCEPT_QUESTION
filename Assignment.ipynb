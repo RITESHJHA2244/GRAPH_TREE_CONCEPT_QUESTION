{
 "cells": [
  {
   "cell_type": "markdown",
   "id": "a309e85d",
   "metadata": {},
   "source": [
    "Q.1. Write a code to find the degree of each vertex, and store it in a dictionary. Sort the keys of the dictionary by the degree stored in the values.\n"
   ]
  },
  {
   "cell_type": "code",
   "execution_count": 3,
   "id": "7ef3ead1",
   "metadata": {},
   "outputs": [
    {
     "name": "stdout",
     "output_type": "stream",
     "text": [
      "A -> 2\n",
      "B -> 2\n",
      "C -> 1\n",
      "D -> 1\n",
      "E -> 0\n"
     ]
    }
   ],
   "source": [
    "\n",
    "\n",
    "# Sample graph as an adjacency list\n",
    "graph = {\n",
    "    'A': ['B', 'C'],\n",
    "    'B': ['A', 'D'],\n",
    "    'C': ['A'],\n",
    "    'D': ['B'],\n",
    "    'E': []  # Disconnected node\n",
    "}\n",
    "\n",
    "# Step 1: Find degree of each vertex\n",
    "degree = {}\n",
    "\n",
    "for vertex in graph:\n",
    "    degree[vertex] = len(graph[vertex])\n",
    "\n",
    "# Step 2: Sort vertices by degree\n",
    "sorted_vertices = sorted(degree, key=lambda x: degree[x], reverse=True)\n",
    "\n",
    "# Optional: print degrees in sorted order\n",
    "for v in sorted_vertices:\n",
    "    print(v, \"->\", degree[v])\n"
   ]
  },
  {
   "cell_type": "markdown",
   "id": "400105f6",
   "metadata": {},
   "source": [
    "Q.2. Write a code to inter-convert the 3 graph representations we have learnt."
   ]
  },
  {
   "cell_type": "code",
   "execution_count": 4,
   "id": "00f32991",
   "metadata": {},
   "outputs": [
    {
     "name": "stdout",
     "output_type": "stream",
     "text": [
      "Adjacency List:\n",
      "{'A': ['B', 'C'], 'B': ['A', 'D'], 'C': ['A', 'D'], 'D': ['B', 'C']}\n",
      "\n",
      "Edge List:\n",
      "[('A', 'B'), ('A', 'C'), ('B', 'D'), ('C', 'D')]\n",
      "\n",
      "Adjacency Matrix:\n",
      "[0, 1, 1, 0]\n",
      "[1, 0, 0, 1]\n",
      "[1, 0, 0, 1]\n",
      "[0, 1, 1, 0]\n",
      "\n",
      "Converted Adjacency List from Matrix:\n",
      "{'A': ['B', 'C'], 'B': ['A', 'D'], 'C': ['A', 'D'], 'D': ['B', 'C']}\n"
     ]
    }
   ],
   "source": [
    "# 1. Adjacency List\n",
    "adj_list = {\n",
    "    'A': ['B', 'C'],\n",
    "    'B': ['A', 'D'],\n",
    "    'C': ['A', 'D'],\n",
    "    'D': ['B', 'C']\n",
    "}\n",
    "\n",
    "# 2. Adjacency List to Edge List\n",
    "edge_list = []\n",
    "for node in adj_list:\n",
    "    for neighbor in adj_list[node]:\n",
    "        if (neighbor, node) not in edge_list:  # avoid duplicates\n",
    "            edge_list.append((node, neighbor))\n",
    "\n",
    "# 3. Edge List to Adjacency Matrix\n",
    "nodes = list(adj_list.keys())\n",
    "n = len(nodes)\n",
    "node_index = {node: i for i, node in enumerate(nodes)}\n",
    "adj_matrix = [[0]*n for _ in range(n)]\n",
    "for u, v in edge_list:\n",
    "    i, j = node_index[u], node_index[v]\n",
    "    adj_matrix[i][j] = 1\n",
    "    adj_matrix[j][i] = 1  # undirected\n",
    "\n",
    "# 4. Adjacency Matrix to Adjacency List\n",
    "new_adj_list = {}\n",
    "for i in range(n):\n",
    "    new_adj_list[nodes[i]] = []\n",
    "    for j in range(n):\n",
    "        if adj_matrix[i][j] == 1:\n",
    "            new_adj_list[nodes[i]].append(nodes[j])\n",
    "\n",
    "# Print all three representations\n",
    "print(\"Adjacency List:\")\n",
    "print(adj_list)\n",
    "\n",
    "print(\"\\nEdge List:\")\n",
    "print(edge_list)\n",
    "\n",
    "print(\"\\nAdjacency Matrix:\")\n",
    "for row in adj_matrix:\n",
    "    print(row)\n",
    "\n",
    "print(\"\\nConverted Adjacency List from Matrix:\")\n",
    "print(new_adj_list)\n"
   ]
  },
  {
   "cell_type": "markdown",
   "id": "f804e72f",
   "metadata": {},
   "source": [
    "Q.3. Given a graph and two vertices, check if they are adjacent. \n"
   ]
  },
  {
   "cell_type": "code",
   "execution_count": 5,
   "id": "5095757a",
   "metadata": {},
   "outputs": [
    {
     "name": "stdout",
     "output_type": "stream",
     "text": [
      "Yes, 'A' and 'C' are adjacent.\n"
     ]
    }
   ],
   "source": [
    "# Example graph (Adjacency List)\n",
    "graph = {\n",
    "    'A': ['B', 'C'],\n",
    "    'B': ['A', 'D'],\n",
    "    'C': ['A', 'D'],\n",
    "    'D': ['B', 'C']\n",
    "}\n",
    "\n",
    "# Function to check adjacency\n",
    "def are_adjacent(graph, u, v):\n",
    "    return v in graph.get(u, [])\n",
    "\n",
    "# Example check\n",
    "u = 'A'\n",
    "v = 'C'\n",
    "\n",
    "if are_adjacent(graph, u, v):\n",
    "    print(f\"Yes, '{u}' and '{v}' are adjacent.\")\n",
    "else:\n",
    "    print(f\"No, '{u}' and '{v}' are not adjacent.\")\n"
   ]
  },
  {
   "cell_type": "markdown",
   "id": "0894d427",
   "metadata": {},
   "source": [
    "Q.4.# Check if a graph is complete.\n"
   ]
  },
  {
   "cell_type": "code",
   "execution_count": 6,
   "id": "3cbc8a9b",
   "metadata": {},
   "outputs": [
    {
     "name": "stdout",
     "output_type": "stream",
     "text": [
      "The graph is complete.\n"
     ]
    }
   ],
   "source": [
    "# Check if a graph is complete.\n",
    "def is_complete_graph(graph):\n",
    "    num_vertices = len(graph)\n",
    "    for node in graph:\n",
    "        if len(graph[node]) != num_vertices - 1:\n",
    "            return False\n",
    "    return True\n",
    "\n",
    "# Example graph\n",
    "graph = {\n",
    "    'A': ['B', 'C'],\n",
    "    'B': ['A', 'C'],\n",
    "    'C': ['A', 'B']\n",
    "}\n",
    "\n",
    "# Check if complete\n",
    "if is_complete_graph(graph):\n",
    "    print(\"The graph is complete.\")\n",
    "else:\n",
    "    print(\"The graph is NOT complete.\")\n",
    "\n"
   ]
  },
  {
   "cell_type": "markdown",
   "id": "31a795f9",
   "metadata": {},
   "source": [
    "Q.5. Check if a graph is connected\n"
   ]
  },
  {
   "cell_type": "code",
   "execution_count": 16,
   "id": "0bb40c87",
   "metadata": {},
   "outputs": [
    {
     "name": "stdout",
     "output_type": "stream",
     "text": [
      "The graph is connected.\n"
     ]
    }
   ],
   "source": [
    "from collections import deque\n",
    "\n",
    "# Function to check if graph is connected using BFS\n",
    "def is_connected(graph, start_node):\n",
    "    visited = set()               # To keep track of visited nodes\n",
    "    queue = deque([start_node])   # Create a queue and add the starting node\n",
    "\n",
    "    while queue:\n",
    "        node = queue.popleft()    # Remove element from the front of the queue\n",
    "        if node not in visited:\n",
    "            visited.add(node)     # Mark node as visited\n",
    "            # Add all unvisited neighbors to the queue\n",
    "            for neighbor in graph[node]:\n",
    "                if neighbor not in visited:\n",
    "                    queue.append(neighbor)\n",
    "\n",
    "    # If all nodes are visited, the graph is connected\n",
    "    return len(visited) == len(graph)\n",
    "\n",
    "# Example graph represented using an adjacency list (dictionary)\n",
    "graph = {\n",
    "    'A': ['B', 'C'],\n",
    "    'B': ['A', 'D'],\n",
    "    'C': ['A'],\n",
    "    'D': ['B']\n",
    "}\n",
    "\n",
    "# Call the function\n",
    "if is_connected(graph, 'A'):\n",
    "    print(\"The graph is connected.\")\n",
    "else:\n",
    "    print(\"The graph is not connected.\")\n"
   ]
  },
  {
   "cell_type": "markdown",
   "id": "e302c8e3",
   "metadata": {},
   "source": [
    "Q.6.Given a graph and a list of vertices, check if it forms a walk, or a trail or a path or none of these."
   ]
  },
  {
   "cell_type": "code",
   "execution_count": 8,
   "id": "ef937900",
   "metadata": {},
   "outputs": [],
   "source": [
    "def check_walk_type(graph, vertex_list):\n",
    "    \"\"\"\n",
    "    :param graph: dict representing adjacency list. Example: {'A': ['B'], 'B': ['A', 'C'], 'C': ['B']}\n",
    "    :param vertex_list: list of vertices representing the sequence to check\n",
    "    :return: one of \"None\", \"Walk\", \"Trail\", \"Path\"\n",
    "    \"\"\"\n",
    "    if not vertex_list or len(vertex_list) < 2:\n",
    "        return \"None\"\n",
    "\n",
    "    edges_seen = set()\n",
    "    vertices_seen = set()\n",
    "\n",
    "    for i in range(len(vertex_list) - 1):\n",
    "        u, v = vertex_list[i], vertex_list[i + 1]\n",
    "\n",
    "        # Check if edge exists (walk requirement)\n",
    "        if v not in graph.get(u, []):\n",
    "            return \"None\"\n",
    "\n",
    "        # For trail check\n",
    "        edge = tuple(sorted((u, v)))  # for undirected graph\n",
    "        if edge in edges_seen:\n",
    "            is_trail = False\n",
    "        else:\n",
    "            edges_seen.add(edge)\n",
    "\n",
    "        # For path check\n",
    "        if v in vertices_seen:\n",
    "            is_path = False\n",
    "        vertices_seen.add(u)\n",
    "\n",
    "    is_trail = len(edges_seen) == (len(vertex_list) - 1)\n",
    "    is_path = is_trail and len(set(vertex_list)) == len(vertex_list)\n",
    "\n",
    "    if is_path:\n",
    "        return \"Path\"\n",
    "    elif is_trail:\n",
    "        return \"Trail\"\n",
    "    else:\n",
    "        return \"Walk\"\n",
    "    \n",
    "    \n",
    "\n"
   ]
  },
  {
   "cell_type": "markdown",
   "id": "cc5a2914",
   "metadata": {},
   "source": [
    "Q.7. Check if a given graph is a tree.\n"
   ]
  },
  {
   "cell_type": "code",
   "execution_count": 9,
   "id": "3e8cf537",
   "metadata": {},
   "outputs": [
    {
     "name": "stdout",
     "output_type": "stream",
     "text": [
      "Is the graph a tree? True\n"
     ]
    }
   ],
   "source": [
    "def is_tree(n, edges):\n",
    "    \"\"\"\n",
    "    Checks if the given graph is a tree.\n",
    "\n",
    "    :param n: number of nodes\n",
    "    :param edges: list of edges (each edge is a tuple (u, v))\n",
    "    :return: True if the graph is a tree, False otherwise\n",
    "    \"\"\"\n",
    "\n",
    "    # A tree must have exactly n - 1 edges\n",
    "    if len(edges) != n - 1:\n",
    "        return False\n",
    "\n",
    "    # Create an adjacency list\n",
    "    graph = {i: [] for i in range(n)}\n",
    "    for u, v in edges:\n",
    "        graph[u].append(v)\n",
    "        graph[v].append(u)\n",
    "\n",
    "    visited = [False] * n\n",
    "\n",
    "    # DFS function to check for cycles\n",
    "    def dfs(node, parent):\n",
    "        visited[node] = True\n",
    "        for neighbor in graph[node]:\n",
    "            if not visited[neighbor]:\n",
    "                if not dfs(neighbor, node):\n",
    "                    return False\n",
    "            elif neighbor != parent:\n",
    "                return False  # Found a cycle\n",
    "        return True\n",
    "\n",
    "    # Start DFS from node 0\n",
    "    if not dfs(0, -1):\n",
    "        return False\n",
    "\n",
    "    # Check if all nodes are visited (connected)\n",
    "    return all(visited)\n",
    "\n",
    "\n",
    "# Example usage\n",
    "n = 5  # number of nodes (0 to 4)\n",
    "edges = [(0, 1), (0, 2), (1, 3), (1, 4)]\n",
    "\n",
    "print(\"Is the graph a tree?\", is_tree(n, edges))  # Output: True\n"
   ]
  },
  {
   "cell_type": "markdown",
   "id": "825f0973",
   "metadata": {},
   "source": [
    "Q.8. Given a connected cyclic graph, find its spanning tree.\n"
   ]
  },
  {
   "cell_type": "code",
   "execution_count": 10,
   "id": "d979e0dc",
   "metadata": {},
   "outputs": [
    {
     "name": "stdout",
     "output_type": "stream",
     "text": [
      "Spanning Tree edges:\n",
      "0 - 1\n",
      "1 - 2\n",
      "1 - 3\n",
      "3 - 4\n"
     ]
    }
   ],
   "source": [
    "def find_spanning_tree(n, edges):\n",
    "    \"\"\"\n",
    "    Given a connected cyclic graph, returns the edges of its spanning tree.\n",
    "\n",
    "    :param n: Number of nodes\n",
    "    :param edges: List of edges in the graph\n",
    "    :return: List of edges in the spanning tree\n",
    "    \"\"\"\n",
    "\n",
    "    # Create adjacency list for the graph\n",
    "    graph = {i: [] for i in range(n)}\n",
    "    for u, v in edges:\n",
    "        graph[u].append(v)\n",
    "        graph[v].append(u)  # undirected graph\n",
    "\n",
    "    visited = [False] * n\n",
    "    spanning_tree = []\n",
    "\n",
    "    # DFS to build the spanning tree\n",
    "    def dfs(node):\n",
    "        visited[node] = True\n",
    "        for neighbor in graph[node]:\n",
    "            if not visited[neighbor]:\n",
    "                spanning_tree.append((node, neighbor))  # Add edge to spanning tree\n",
    "                dfs(neighbor)\n",
    "\n",
    "    # Start DFS from node 0\n",
    "    dfs(0)\n",
    "\n",
    "    return spanning_tree\n",
    "\n",
    "\n",
    "# Example usage:\n",
    "n = 5\n",
    "edges = [\n",
    "    (0, 1), (0, 2), (1, 2),  # Cycle\n",
    "    (1, 3), (3, 4)\n",
    "]\n",
    "\n",
    "tree_edges = find_spanning_tree(n, edges)\n",
    "\n",
    "print(\"Spanning Tree edges:\")\n",
    "for u, v in tree_edges:\n",
    "    print(u, \"-\", v)\n"
   ]
  },
  {
   "cell_type": "markdown",
   "id": "97e927dc",
   "metadata": {},
   "source": [
    "Q.9. Given a tree, find the number of leaf nodes.\n"
   ]
  },
  {
   "cell_type": "code",
   "execution_count": 11,
   "id": "a1a65914",
   "metadata": {},
   "outputs": [
    {
     "name": "stdout",
     "output_type": "stream",
     "text": [
      "Number of leaf nodes: 3\n"
     ]
    }
   ],
   "source": [
    "def count_leaf_nodes(n, edges):\n",
    "    \"\"\"\n",
    "    Counts the number of leaf nodes in a tree.\n",
    "\n",
    "    :param n: Total number of nodes\n",
    "    :param edges: List of edges in the tree\n",
    "    :return: Number of leaf nodes\n",
    "    \"\"\"\n",
    "\n",
    "    # Create adjacency list\n",
    "    tree = {i: [] for i in range(n)}\n",
    "    for u, v in edges:\n",
    "        tree[u].append(v)\n",
    "        tree[v].append(u)\n",
    "\n",
    "    # Count nodes with only one connection (leaf)\n",
    "    leaf_count = 0\n",
    "    for node in tree:\n",
    "        if len(tree[node]) == 1:\n",
    "            leaf_count += 1\n",
    "\n",
    "    return leaf_count\n",
    "\n",
    "\n",
    "# Example usage\n",
    "n = 5\n",
    "edges = [(0, 1), (1, 2), (1, 3), (3, 4)]\n",
    "\n",
    "print(\"Number of leaf nodes:\", count_leaf_nodes(n, edges))  # Output: 2\n"
   ]
  },
  {
   "cell_type": "markdown",
   "id": "5fe1ae1e",
   "metadata": {},
   "source": [
    "Q.10. Given a tree, check if it's a binary tree.\n"
   ]
  },
  {
   "cell_type": "code",
   "execution_count": 13,
   "id": "eb700d00",
   "metadata": {},
   "outputs": [
    {
     "name": "stdout",
     "output_type": "stream",
     "text": [
      "Is it a binary tree? True\n"
     ]
    }
   ],
   "source": [
    "def is_binary_tree(n, edges):\n",
    "    # Create a dictionary to store each node and its connected nodes\n",
    "    tree = {}\n",
    "\n",
    "    # Add edges to the dictionary\n",
    "    for u, v in edges:\n",
    "        if u not in tree:\n",
    "            tree[u] = []\n",
    "        if v not in tree:\n",
    "            tree[v] = []\n",
    "        tree[u].append(v)\n",
    "        tree[v].append(u)  # Since it's an undirected tree\n",
    "\n",
    "    # Function to check each node's children count\n",
    "    def check(node, parent):\n",
    "        count = 0  # to count the number of children\n",
    "        for child in tree[node]:\n",
    "            if child != parent:  # Skip the parent node\n",
    "                count += 1\n",
    "                if count > 2:\n",
    "                    return False  # Not a binary tree\n",
    "                if not check(child, node):\n",
    "                    return False\n",
    "        return True\n",
    "\n",
    "    # Start checking from node 0 and assume -1 as its parent (doesn't exist)\n",
    "    return check(0, -1)\n",
    "\n",
    "\n",
    "# Example tree:\n",
    "#      0\n",
    "#     / \\\n",
    "#    1   2\n",
    "#   / \\\n",
    "#  3   4\n",
    "\n",
    "# Number of nodes\n",
    "n = 5\n",
    "# List of edges (connections between nodes)\n",
    "edges = [(0, 1), (0, 2), (1, 3), (1, 4)]\n",
    "\n",
    "# Check if it's a binary tree\n",
    "print(\"Is it a binary tree?\", is_binary_tree(n, edges))  # Output: True\n"
   ]
  },
  {
   "cell_type": "markdown",
   "id": "9b2a411f",
   "metadata": {},
   "source": [
    "Q.11. Given a tree and a node, find its height.\n",
    "\n"
   ]
  },
  {
   "cell_type": "code",
   "execution_count": 14,
   "id": "4ca4afb5",
   "metadata": {},
   "outputs": [
    {
     "name": "stdout",
     "output_type": "stream",
     "text": [
      "Height of the tree from node 0 is: 3\n"
     ]
    }
   ],
   "source": [
    "def find_height(tree, node, parent):\n",
    "    \"\"\"\n",
    "    Finds the height of a tree from a given node.\n",
    "    :param tree: dictionary (adjacency list of tree)\n",
    "    :param node: current node\n",
    "    :param parent: parent of current node to avoid going back\n",
    "    :return: height (int)\n",
    "    \"\"\"\n",
    "    max_height = 0  # to store maximum height from this node\n",
    "    for child in tree[node]:\n",
    "        if child != parent:  # don't go back to parent\n",
    "            h = find_height(tree, child, node)\n",
    "            if h > max_height:\n",
    "                max_height = h\n",
    "    return max_height + 1  # +1 for current level\n",
    "\n",
    "# Example usage:\n",
    "\n",
    "# Create a tree using adjacency list\n",
    "# Tree structure:\n",
    "#      0\n",
    "#     / \\\n",
    "#    1   2\n",
    "#   / \\\n",
    "#  3   4\n",
    "\n",
    "tree = {\n",
    "    0: [1, 2],\n",
    "    1: [0, 3, 4],\n",
    "    2: [0],\n",
    "    3: [1],\n",
    "    4: [1]\n",
    "}\n",
    "\n",
    "root = 0  # start from node 0\n",
    "height = find_height(tree, root, -1)  # -1 means no parent for root\n",
    "print(\"Height of the tree from node\", root, \"is:\", height)\n"
   ]
  },
  {
   "cell_type": "markdown",
   "id": "4a1e2cc7",
   "metadata": {},
   "source": [
    "Q.12. Given a tree and a node, find its depth.\n"
   ]
  },
  {
   "cell_type": "code",
   "execution_count": 15,
   "id": "49da2462",
   "metadata": {},
   "outputs": [
    {
     "name": "stdout",
     "output_type": "stream",
     "text": [
      "Depth of node 4 is: 2\n"
     ]
    }
   ],
   "source": [
    "def find_depth(tree, current, target, parent, depth):\n",
    "    \"\"\"\n",
    "    Finds the depth of a target node from the root.\n",
    "    :param tree: dictionary (adjacency list of tree)\n",
    "    :param current: current node we are visiting\n",
    "    :param target: node whose depth we want to find\n",
    "    :param parent: parent of current node to avoid backtracking\n",
    "    :param depth: current depth in recursion\n",
    "    :return: depth of the target node or -1 if not found\n",
    "    \"\"\"\n",
    "    if current == target:\n",
    "        return depth\n",
    "\n",
    "    for neighbor in tree[current]:\n",
    "        if neighbor != parent:\n",
    "            result = find_depth(tree, neighbor, target, current, depth + 1)\n",
    "            if result != -1:\n",
    "                return result\n",
    "\n",
    "    return -1  # if target not found\n",
    "\n",
    "# Example tree:\n",
    "#      0\n",
    "#     / \\\n",
    "#    1   2\n",
    "#   / \\\n",
    "#  3   4\n",
    "\n",
    "# Tree represented as adjacency list\n",
    "tree = {\n",
    "    0: [1, 2],\n",
    "    1: [0, 3, 4],\n",
    "    2: [0],\n",
    "    3: [1],\n",
    "    4: [1]\n",
    "}\n",
    "\n",
    "# Example: find depth of node 4 from root (0)\n",
    "target_node = 4\n",
    "depth = find_depth(tree, current=0, target=target_node, parent=-1, depth=0)\n",
    "print(f\"Depth of node {target_node} is:\", depth)\n"
   ]
  }
 ],
 "metadata": {
  "kernelspec": {
   "display_name": "Python 3",
   "language": "python",
   "name": "python3"
  },
  "language_info": {
   "codemirror_mode": {
    "name": "ipython",
    "version": 3
   },
   "file_extension": ".py",
   "mimetype": "text/x-python",
   "name": "python",
   "nbconvert_exporter": "python",
   "pygments_lexer": "ipython3",
   "version": "3.12.5"
  }
 },
 "nbformat": 4,
 "nbformat_minor": 5
}
